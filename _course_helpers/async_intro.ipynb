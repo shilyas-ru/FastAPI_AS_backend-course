{
 "cells": [
  {
   "cell_type": "code",
   "execution_count": 3,
   "metadata": {
    "ExecuteTime": {
     "end_time": "2024-07-16T09:49:52.729951Z",
     "start_time": "2024-07-16T09:49:52.714180Z"
    }
   },
   "outputs": [],
   "source": [
    "import time\n",
    "import asyncio"
   ]
  },
  {
   "cell_type": "code",
   "execution_count": 1,
   "metadata": {},
   "outputs": [],
   "source": [
    "def get_data_from_database(query: str):\n",
    "    print(f\"Получен запрос: {query}\")\n",
    "    if query == \"Сочи\":\n",
    "        time.sleep(4)\n",
    "    elif query == \"Дубай\":\n",
    "        time.sleep(2)\n",
    "    print(f\"Данные получены: {query}\")"
   ]
  },
  {
   "cell_type": "code",
   "execution_count": 4,
   "metadata": {},
   "outputs": [
    {
     "name": "stdout",
     "output_type": "stream",
     "text": [
      "Получен запрос: Сочи\n",
      "Данные получены: Сочи\n",
      "Получен запрос: Дубай\n",
      "Данные получены: Дубай\n"
     ]
    }
   ],
   "source": [
    "get_data_from_database(\"Сочи\")\n",
    "get_data_from_database(\"Дубай\")"
   ]
  },
  {
   "cell_type": "code",
   "execution_count": 13,
   "metadata": {},
   "outputs": [],
   "source": [
    "async def get_data_from_database_async(query: str):\n",
    "    print(f\"Получен запрос: {query}\")\n",
    "    if query == \"Сочи\":\n",
    "        await asyncio.sleep(4)\n",
    "    elif query == \"Дубай\":\n",
    "        await asyncio.sleep(2)\n",
    "    print(f\"Данные получены: {query}\")\n",
    "    return \"Results\""
   ]
  },
  {
   "cell_type": "code",
   "execution_count": 6,
   "metadata": {},
   "outputs": [
    {
     "name": "stdout",
     "output_type": "stream",
     "text": [
      "Получен запрос: Сочи\n",
      "Данные получены: Сочи\n",
      "Получен запрос: Дубай\n",
      "Данные получены: Дубай\n"
     ]
    }
   ],
   "source": [
    "await get_data_from_database_async(\"Сочи\")\n",
    "await get_data_from_database_async(\"Дубай\")"
   ]
  },
  {
   "cell_type": "code",
   "execution_count": 20,
   "metadata": {},
   "outputs": [
    {
     "name": "stdout",
     "output_type": "stream",
     "text": [
      "Получен запрос: Сочи\n",
      "Получен запрос: Сочи\n",
      "Получен запрос: Сочи\n",
      "Получен запрос: Сочи\n",
      "Получен запрос: Сочи\n",
      "Получен запрос: Сочи\n",
      "Получен запрос: Дубай\n",
      "Получен запрос: Дубай\n",
      "Получен запрос: Дубай\n",
      "Получен запрос: Дубай\n",
      "Данные получены: Дубай\n",
      "Данные получены: Дубай\n",
      "Данные получены: Дубай\n",
      "Данные получены: Дубай\n",
      "Данные получены: Сочи\n",
      "Данные получены: Сочи\n",
      "Данные получены: Сочи\n",
      "Данные получены: Сочи\n",
      "Данные получены: Сочи\n",
      "Данные получены: Сочи\n"
     ]
    },
    {
     "data": {
      "text/plain": [
       "['Results',\n",
       " 'Results',\n",
       " 'Results',\n",
       " 'Results',\n",
       " 'Results',\n",
       " 'Results',\n",
       " 'Results',\n",
       " 'Results',\n",
       " 'Results',\n",
       " 'Results']"
      ]
     },
     "execution_count": 20,
     "metadata": {},
     "output_type": "execute_result"
    }
   ],
   "source": [
    "await asyncio.gather(\n",
    "    get_data_from_database_async(\"Сочи\"),\n",
    "    get_data_from_database_async(\"Сочи\"),\n",
    "    get_data_from_database_async(\"Сочи\"),\n",
    "    get_data_from_database_async(\"Сочи\"),\n",
    "    get_data_from_database_async(\"Сочи\"),\n",
    "    get_data_from_database_async(\"Сочи\"),\n",
    "    get_data_from_database_async(\"Дубай\"),\n",
    "    get_data_from_database_async(\"Дубай\"),\n",
    "    get_data_from_database_async(\"Дубай\"),\n",
    "    get_data_from_database_async(\"Дубай\"),\n",
    ")"
   ]
  },
  {
   "cell_type": "code",
   "execution_count": 18,
   "metadata": {},
   "outputs": [
    {
     "name": "stdout",
     "output_type": "stream",
     "text": [
      "Получен запрос: Сочи\n",
      "Получен запрос: Дубай\n",
      "Данные получены: Дубай\n",
      "Данные получены: Сочи\n"
     ]
    }
   ],
   "source": [
    "task1 = asyncio.create_task(get_data_from_database_async(\"Сочи\"))\n",
    "task2 = asyncio.create_task(get_data_from_database_async(\"Дубай\"))"
   ]
  }
 ],
 "metadata": {
  "kernelspec": {
   "display_name": "venv",
   "language": "python",
   "name": "python3"
  },
  "language_info": {
   "codemirror_mode": {
    "name": "ipython",
    "version": 3
   },
   "file_extension": ".py",
   "mimetype": "text/x-python",
   "name": "python",
   "nbconvert_exporter": "python",
   "pygments_lexer": "ipython3",
   "version": "3.11.8"
  }
 },
 "nbformat": 4,
 "nbformat_minor": 2
}
